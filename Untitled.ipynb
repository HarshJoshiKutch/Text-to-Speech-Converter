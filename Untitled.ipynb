{
 "cells": [
  {
   "cell_type": "code",
   "execution_count": 14,
   "id": "30b06e6f",
   "metadata": {},
   "outputs": [],
   "source": [
    "import tkinter as tk\n",
    "import boto3\n",
    "import os\n",
    "import sys\n",
    "from tempfile import gettempdir\n",
    "from contextlib import closing\n",
    "\n",
    "root = tk.Tk()\n",
    "\n",
    "root.geometry('400x240')\n",
    "root.title(\"T2S-Converter Amazon Polly\")\n",
    "\n",
    "textExample = tk.Text(root, height=10)\n",
    "textExample.pack()\n",
    "\n",
    "def getText():\n",
    "    aws_mag_con = boto3.session.Session(profile_name='demo_user')  # for opening the management console\n",
    "    client = aws_mag_con.client(service_name='polly', region_name='us-east-1')\n",
    "    result = textExample.get(\"1.0\", \"end\")\n",
    "    print(result)\n",
    "    response = client.synthesize_speech(VoiceId='Joanna', OutputFormat='mp3', Text=result, Engine='neural')\n",
    "    print(response)\n",
    "    if \"AudioStream\" in response:\n",
    "        with closing(response['AudioStream']) as stream:\n",
    "            output = os.path.join(gettempdir(), \"speech.mp3\")  # extracted the audio stream from response\n",
    "            try:\n",
    "                with open(output, \"wb\") as file:\n",
    "                    file.write(stream.read())\n",
    "            except IOError as error:\n",
    "                print(error)\n",
    "                sys.exit(-1)\n",
    "    else:\n",
    "        print(\"Could not find the stream!\")\n",
    "        sys.exit(-1)\n",
    "\n",
    "    if sys.platform == 'win32':\n",
    "        os.startfile(output)\n",
    "\n",
    "\n"
   ]
  },
  {
   "cell_type": "code",
   "execution_count": 15,
   "id": "4c14262d",
   "metadata": {},
   "outputs": [],
   "source": [
    "btnRead = tk.Button(root, height=1, width=10, text=\"Read\", command=getText)\n",
    "btnRead.pack()"
   ]
  },
  {
   "cell_type": "code",
   "execution_count": 16,
   "id": "9204d3ae",
   "metadata": {},
   "outputs": [
    {
     "name": "stderr",
     "output_type": "stream",
     "text": [
      "Exception in Tkinter callback\n",
      "Traceback (most recent call last):\n",
      "  File \"C:\\Users\\DELL\\anaconda3\\Lib\\tkinter\\__init__.py\", line 1948, in __call__\n",
      "    return self.func(*args)\n",
      "           ^^^^^^^^^^^^^^^^\n",
      "  File \"C:\\Users\\DELL\\AppData\\Local\\Temp\\ipykernel_8780\\1066809570.py\", line 17, in getText\n",
      "    aws_mag_con = boto3.session.Session(profile_name='demo_user')  # for opening the management console\n",
      "                  ^^^^^^^^^^^^^^^^^^^^^^^^^^^^^^^^^^^^^^^^^^^^^^^\n",
      "  File \"C:\\Users\\DELL\\anaconda3\\Lib\\site-packages\\boto3\\session.py\", line 90, in __init__\n",
      "    self._setup_loader()\n",
      "  File \"C:\\Users\\DELL\\anaconda3\\Lib\\site-packages\\boto3\\session.py\", line 131, in _setup_loader\n",
      "    self._loader = self._session.get_component('data_loader')\n",
      "                   ^^^^^^^^^^^^^^^^^^^^^^^^^^^^^^^^^^^^^^^^^^\n",
      "  File \"C:\\Users\\DELL\\anaconda3\\Lib\\site-packages\\botocore\\session.py\", line 802, in get_component\n",
      "    return self._components.get_component(name)\n",
      "           ^^^^^^^^^^^^^^^^^^^^^^^^^^^^^^^^^^^^\n",
      "  File \"C:\\Users\\DELL\\anaconda3\\Lib\\site-packages\\botocore\\session.py\", line 1140, in get_component\n",
      "    self._components[name] = factory()\n",
      "                             ^^^^^^^^^\n",
      "  File \"C:\\Users\\DELL\\anaconda3\\Lib\\site-packages\\botocore\\session.py\", line 199, in <lambda>\n",
      "    lambda: create_loader(self.get_config_variable('data_path')),\n",
      "                          ^^^^^^^^^^^^^^^^^^^^^^^^^^^^^^^^^^^^^\n",
      "  File \"C:\\Users\\DELL\\anaconda3\\Lib\\site-packages\\botocore\\session.py\", line 323, in get_config_variable\n",
      "    return self.get_component('config_store').get_config_variable(\n",
      "           ^^^^^^^^^^^^^^^^^^^^^^^^^^^^^^^^^^^^^^^^^^^^^^^^^^^^^^^\n",
      "  File \"C:\\Users\\DELL\\anaconda3\\Lib\\site-packages\\botocore\\configprovider.py\", line 465, in get_config_variable\n",
      "    return provider.provide()\n",
      "           ^^^^^^^^^^^^^^^^^^\n",
      "  File \"C:\\Users\\DELL\\anaconda3\\Lib\\site-packages\\botocore\\configprovider.py\", line 671, in provide\n",
      "    value = provider.provide()\n",
      "            ^^^^^^^^^^^^^^^^^^\n",
      "  File \"C:\\Users\\DELL\\anaconda3\\Lib\\site-packages\\botocore\\configprovider.py\", line 761, in provide\n",
      "    scoped_config = self._session.get_scoped_config()\n",
      "                    ^^^^^^^^^^^^^^^^^^^^^^^^^^^^^^^^^\n",
      "  File \"C:\\Users\\DELL\\anaconda3\\Lib\\site-packages\\botocore\\session.py\", line 422, in get_scoped_config\n",
      "    raise ProfileNotFound(profile=profile_name)\n",
      "botocore.exceptions.ProfileNotFound: The config profile (demo_user) could not be found\n"
     ]
    }
   ],
   "source": [
    "root.mainloop()"
   ]
  },
  {
   "cell_type": "code",
   "execution_count": null,
   "id": "d9228e20",
   "metadata": {},
   "outputs": [],
   "source": []
  }
 ],
 "metadata": {
  "kernelspec": {
   "display_name": "Python 3 (ipykernel)",
   "language": "python",
   "name": "python3"
  },
  "language_info": {
   "codemirror_mode": {
    "name": "ipython",
    "version": 3
   },
   "file_extension": ".py",
   "mimetype": "text/x-python",
   "name": "python",
   "nbconvert_exporter": "python",
   "pygments_lexer": "ipython3",
   "version": "3.11.5"
  }
 },
 "nbformat": 4,
 "nbformat_minor": 5
}
