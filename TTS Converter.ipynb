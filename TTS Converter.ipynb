{
 "cells": [
  {
   "cell_type": "code",
   "execution_count": 1,
   "id": "e1433ff2",
   "metadata": {},
   "outputs": [],
   "source": [
    "# GUI for Text to Speech Converter\n",
    "import tkinter as tk\n",
    "import boto3\n",
    "import os\n",
    "import sys\n",
    "from tempfile import gettempdir\n",
    "from contextlib import closing"
   ]
  },
  {
   "cell_type": "code",
   "execution_count": 2,
   "id": "bad82d0a",
   "metadata": {},
   "outputs": [],
   "source": [
    "root = tk.Tk()"
   ]
  },
  {
   "cell_type": "code",
   "execution_count": 3,
   "id": "21a0a48a",
   "metadata": {},
   "outputs": [
    {
     "data": {
      "text/plain": [
       "''"
      ]
     },
     "execution_count": 3,
     "metadata": {},
     "output_type": "execute_result"
    }
   ],
   "source": [
    "root.geometry('400x240')"
   ]
  },
  {
   "cell_type": "code",
   "execution_count": 4,
   "id": "c95e569b",
   "metadata": {},
   "outputs": [
    {
     "data": {
      "text/plain": [
       "''"
      ]
     },
     "execution_count": 4,
     "metadata": {},
     "output_type": "execute_result"
    }
   ],
   "source": [
    "root.title(\"T2S-Converter Amazone Polly\")\n"
   ]
  },
  {
   "cell_type": "code",
   "execution_count": 5,
   "id": "e87d2c02",
   "metadata": {},
   "outputs": [],
   "source": [
    "textExample=tk.Text(root,height=10)\n",
    "textExample.pack()"
   ]
  },
  {
   "cell_type": "code",
   "execution_count": 6,
   "id": "75355c7a",
   "metadata": {},
   "outputs": [],
   "source": [
    "def getText():\n",
    "    aws_mag_con = boto3.session.Session(profile_name='demo_user') # for opening the management console\n",
    "    client = aws_mag_con.client(service_name='polly',region_name='us-east-1')\n",
    "    result = textExample.get(\"1.0\",\"end\")\n",
    "    print(result)\n",
    "    response=client.synthesize_speech(VoiceId='Joanna',OutputFormat='mp3',Text=result,Engine='neural')\n",
    "    print(response)\n",
    "    if \"AudioStream\" in response:\n",
    "        with closing(response['AudioStream']) as stream:\n",
    "            output = os.path.join(gettempdir(),\"speech.mp3\")# extracted the audio stream from response\n",
    "            try:\n",
    "                with open(output,\"wb\") as file:\n",
    "                    file.write(stream.read())\n",
    "            except IOError as error:\n",
    "                               print(error)\n",
    "                               sys.exit(-1)\n",
    "    else:\n",
    "        print(\"Could not find the stream!\")\n",
    "        sys.exit(-1)\n",
    "    \n",
    "    if sys.platform =='win32':\n",
    "        os.startfile(output)\n",
    "                        "
   ]
  },
  {
   "cell_type": "code",
   "execution_count": 7,
   "id": "0ea0bda5",
   "metadata": {},
   "outputs": [],
   "source": [
    "\n",
    "btnRead = tk.Button(root,height=1, width=10,text=\"Read\",command=getText)\n",
    "btnRead.pack()"
   ]
  },
  {
   "cell_type": "code",
   "execution_count": 8,
   "id": "02ca24d4",
   "metadata": {},
   "outputs": [
    {
     "name": "stdout",
     "output_type": "stream",
     "text": [
      "Savan fell in love with medico student with her eyes\n",
      "\n",
      "{'ResponseMetadata': {'RequestId': '4c820e14-1ca9-4137-8048-acfc788a0fe0', 'HTTPStatusCode': 200, 'HTTPHeaders': {'x-amzn-requestid': '4c820e14-1ca9-4137-8048-acfc788a0fe0', 'x-amzn-requestcharacters': '52', 'content-type': 'audio/mpeg', 'transfer-encoding': 'chunked', 'date': 'Mon, 08 Apr 2024 08:36:38 GMT'}, 'RetryAttempts': 0}, 'ContentType': 'audio/mpeg', 'RequestCharacters': 52, 'AudioStream': <botocore.response.StreamingBody object at 0x000002A5BC0D53C0>}\n",
      "Savan fell in love with medico student with her eyes\n",
      "\n",
      "{'ResponseMetadata': {'RequestId': '4b4cad12-433e-42c8-a48a-4a838d9e63e0', 'HTTPStatusCode': 200, 'HTTPHeaders': {'x-amzn-requestid': '4b4cad12-433e-42c8-a48a-4a838d9e63e0', 'x-amzn-requestcharacters': '52', 'content-type': 'audio/mpeg', 'transfer-encoding': 'chunked', 'date': 'Mon, 08 Apr 2024 08:37:50 GMT'}, 'RetryAttempts': 0}, 'ContentType': 'audio/mpeg', 'RequestCharacters': 52, 'AudioStream': <botocore.response.StreamingBody object at 0x000002A5BC0D7490>}\n",
      "Savan fell in love with krishi \n",
      "\n",
      "{'ResponseMetadata': {'RequestId': '1891f9d8-34eb-4940-a0c6-06451385c295', 'HTTPStatusCode': 200, 'HTTPHeaders': {'x-amzn-requestid': '1891f9d8-34eb-4940-a0c6-06451385c295', 'x-amzn-requestcharacters': '30', 'content-type': 'audio/mpeg', 'transfer-encoding': 'chunked', 'date': 'Mon, 08 Apr 2024 08:38:24 GMT'}, 'RetryAttempts': 0}, 'ContentType': 'audio/mpeg', 'RequestCharacters': 30, 'AudioStream': <botocore.response.StreamingBody object at 0x000002A5BC0D6620>}\n",
      "meet fell in love with krishi\n",
      "\n",
      "{'ResponseMetadata': {'RequestId': 'fd194958-cbc4-4c89-8776-5fdac98f1851', 'HTTPStatusCode': 200, 'HTTPHeaders': {'x-amzn-requestid': 'fd194958-cbc4-4c89-8776-5fdac98f1851', 'x-amzn-requestcharacters': '29', 'content-type': 'audio/mpeg', 'transfer-encoding': 'chunked', 'date': 'Mon, 08 Apr 2024 08:38:48 GMT'}, 'RetryAttempts': 0}, 'ContentType': 'audio/mpeg', 'RequestCharacters': 29, 'AudioStream': <botocore.response.StreamingBody object at 0x000002A5BB6FAD70>}\n"
     ]
    }
   ],
   "source": [
    "root.mainloop()"
   ]
  }
 ],
 "metadata": {
  "kernelspec": {
   "display_name": "Python 3 (ipykernel)",
   "language": "python",
   "name": "python3"
  },
  "language_info": {
   "codemirror_mode": {
    "name": "ipython",
    "version": 3
   },
   "file_extension": ".py",
   "mimetype": "text/x-python",
   "name": "python",
   "nbconvert_exporter": "python",
   "pygments_lexer": "ipython3",
   "version": "3.11.5"
  }
 },
 "nbformat": 4,
 "nbformat_minor": 5
}
